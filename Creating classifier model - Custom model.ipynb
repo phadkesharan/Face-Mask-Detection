{
 "cells": [
  {
   "cell_type": "code",
   "execution_count": 1,
   "source": [
    "import numpy as np\r\n",
    "import pandas as pd\r\n",
    "import cv2\r\n",
    "import tensorflow as tf"
   ],
   "outputs": [],
   "metadata": {}
  },
  {
   "cell_type": "markdown",
   "source": [
    "# Creating classifier model using CNN"
   ],
   "metadata": {}
  },
  {
   "cell_type": "markdown",
   "source": [
    "## loading the dataset"
   ],
   "metadata": {}
  },
  {
   "cell_type": "code",
   "execution_count": 2,
   "source": [
    "from tensorflow.keras.preprocessing.image import ImageDataGenerator\r\n",
    "\r\n",
    "train_generator = ImageDataGenerator(rescale=1.0/255, zoom_range=0.2)\r\n",
    "test_generator = ImageDataGenerator(rescale=1.0/255, zoom_range=0.2)"
   ],
   "outputs": [],
   "metadata": {}
  },
  {
   "cell_type": "code",
   "execution_count": 3,
   "source": [
    "# mask - 0\r\n",
    "# without mask - 1\r\n",
    "\r\n",
    "train = train_generator.flow_from_directory(\r\n",
    "    'train',\r\n",
    "    target_size = (150, 150),\r\n",
    "    batch_size = 16,\r\n",
    "    class_mode='binary'\r\n",
    ")"
   ],
   "outputs": [
    {
     "output_type": "stream",
     "name": "stdout",
     "text": [
      "Found 1314 images belonging to 2 classes.\n"
     ]
    }
   ],
   "metadata": {}
  },
  {
   "cell_type": "code",
   "execution_count": 4,
   "source": [
    "\r\n",
    "test = train_generator.flow_from_directory(\r\n",
    "    'test',\r\n",
    "    target_size = (150, 150),\r\n",
    "    batch_size = 16,\r\n",
    "    class_mode='binary'\r\n",
    ")"
   ],
   "outputs": [
    {
     "output_type": "stream",
     "name": "stdout",
     "text": [
      "Found 194 images belonging to 2 classes.\n"
     ]
    }
   ],
   "metadata": {}
  },
  {
   "cell_type": "markdown",
   "source": [
    "## Building the model"
   ],
   "metadata": {}
  },
  {
   "cell_type": "code",
   "execution_count": 5,
   "source": [
    "from tensorflow.keras import Sequential\r\n",
    "from tensorflow.keras.layers import Dense, Dropout, Conv2D, MaxPooling2D, Flatten"
   ],
   "outputs": [],
   "metadata": {}
  },
  {
   "cell_type": "code",
   "execution_count": 6,
   "source": [
    "INPUT = (150, 150, 3)\r\n",
    "\r\n",
    "model = Sequential()\r\n",
    "\r\n",
    "model.add(Conv2D(filters=32, kernel_size=(3, 3), strides=(1, 1), padding='valid', activation='relu', input_shape=INPUT))\r\n",
    "model.add(MaxPooling2D(pool_size=(2,2)))\r\n",
    "          \r\n",
    "model.add(Conv2D(filters=64, kernel_size=(3, 3), strides=(1, 1), padding='valid', activation='relu'))\r\n",
    "model.add(MaxPooling2D(pool_size=(2, 2)))\r\n",
    "\r\n",
    "model.add(Conv2D(filters=32, kernel_size=(3, 3), strides=(1, 1), padding='valid', activation='relu'))\r\n",
    "model.add(MaxPooling2D(pool_size=(2, 2)))\r\n",
    "\r\n",
    "model.add(Flatten())\r\n",
    "          \r\n",
    "model.add(Dense(64, activation='relu'))\r\n",
    "model.add(Dropout(0.3))\r\n",
    "model.add(Dense(32, activation='relu'))\r\n",
    "model.add(Dropout(0.3))\r\n",
    "model.add(Dense(256, activation='relu'))\r\n",
    "model.add(Dropout(0.3))\r\n",
    "\r\n",
    "model.add(Dense(1, activation='sigmoid'))"
   ],
   "outputs": [],
   "metadata": {}
  },
  {
   "cell_type": "code",
   "execution_count": 7,
   "source": [
    "model.summary()"
   ],
   "outputs": [
    {
     "output_type": "stream",
     "name": "stdout",
     "text": [
      "Model: \"sequential\"\n",
      "_________________________________________________________________\n",
      "Layer (type)                 Output Shape              Param #   \n",
      "=================================================================\n",
      "conv2d (Conv2D)              (None, 148, 148, 32)      896       \n",
      "_________________________________________________________________\n",
      "max_pooling2d (MaxPooling2D) (None, 74, 74, 32)        0         \n",
      "_________________________________________________________________\n",
      "conv2d_1 (Conv2D)            (None, 72, 72, 64)        18496     \n",
      "_________________________________________________________________\n",
      "max_pooling2d_1 (MaxPooling2 (None, 36, 36, 64)        0         \n",
      "_________________________________________________________________\n",
      "conv2d_2 (Conv2D)            (None, 34, 34, 32)        18464     \n",
      "_________________________________________________________________\n",
      "max_pooling2d_2 (MaxPooling2 (None, 17, 17, 32)        0         \n",
      "_________________________________________________________________\n",
      "flatten (Flatten)            (None, 9248)              0         \n",
      "_________________________________________________________________\n",
      "dense (Dense)                (None, 64)                591936    \n",
      "_________________________________________________________________\n",
      "dropout (Dropout)            (None, 64)                0         \n",
      "_________________________________________________________________\n",
      "dense_1 (Dense)              (None, 32)                2080      \n",
      "_________________________________________________________________\n",
      "dropout_1 (Dropout)          (None, 32)                0         \n",
      "_________________________________________________________________\n",
      "dense_2 (Dense)              (None, 1)                 33        \n",
      "=================================================================\n",
      "Total params: 631,905\n",
      "Trainable params: 631,905\n",
      "Non-trainable params: 0\n",
      "_________________________________________________________________\n"
     ]
    }
   ],
   "metadata": {}
  },
  {
   "cell_type": "code",
   "execution_count": 8,
   "source": [
    "model.compile(optimizer='adam', loss='binary_crossentropy', metrics=['accuracy'])"
   ],
   "outputs": [],
   "metadata": {}
  },
  {
   "cell_type": "markdown",
   "source": [
    "## Training the  model"
   ],
   "metadata": {}
  },
  {
   "cell_type": "code",
   "execution_count": 9,
   "source": [
    "from tensorflow.keras.callbacks import EarlyStopping\r\n",
    "\r\n",
    "es = EarlyStopping(monitor='val_loss', patience=3, restore_best_weights=True)\r\n",
    "\r\n",
    "model.fit(\r\n",
    "    train,\r\n",
    "    epochs=10,\r\n",
    "    validation_data=test,\r\n",
    "    verbose=1,\r\n",
    "    callbacks=[es]\r\n",
    ")"
   ],
   "outputs": [
    {
     "output_type": "stream",
     "name": "stdout",
     "text": [
      "Epoch 1/12\n",
      "83/83 [==============================] - 30s 275ms/step - loss: 0.4533 - accuracy: 0.7823 - val_loss: 0.2337 - val_accuracy: 0.9278\n",
      "Epoch 2/12\n",
      "83/83 [==============================] - 20s 239ms/step - loss: 0.1750 - accuracy: 0.9452 - val_loss: 0.1352 - val_accuracy: 0.9485\n",
      "Epoch 3/12\n",
      "83/83 [==============================] - 20s 243ms/step - loss: 0.1625 - accuracy: 0.9429 - val_loss: 0.1041 - val_accuracy: 0.9639\n",
      "Epoch 4/12\n",
      "83/83 [==============================] - 19s 234ms/step - loss: 0.1063 - accuracy: 0.9703 - val_loss: 0.0922 - val_accuracy: 0.9536\n",
      "Epoch 5/12\n",
      "83/83 [==============================] - 23s 271ms/step - loss: 0.0980 - accuracy: 0.9711 - val_loss: 0.1031 - val_accuracy: 0.9485\n",
      "Epoch 6/12\n",
      "83/83 [==============================] - 32s 391ms/step - loss: 0.1407 - accuracy: 0.9566 - val_loss: 0.1492 - val_accuracy: 0.9381\n",
      "Epoch 7/12\n",
      "83/83 [==============================] - 32s 392ms/step - loss: 0.1413 - accuracy: 0.9574 - val_loss: 0.1218 - val_accuracy: 0.9536\n"
     ]
    },
    {
     "output_type": "execute_result",
     "data": {
      "text/plain": [
       "<tensorflow.python.keras.callbacks.History at 0x22f95c907f0>"
      ]
     },
     "metadata": {},
     "execution_count": 9
    }
   ],
   "metadata": {}
  },
  {
   "cell_type": "code",
   "execution_count": 10,
   "source": [
    "model.evaluate(test)"
   ],
   "outputs": [
    {
     "output_type": "stream",
     "name": "stdout",
     "text": [
      "13/13 [==============================] - 5s 331ms/step - loss: 0.1010 - accuracy: 0.9588\n"
     ]
    },
    {
     "output_type": "execute_result",
     "data": {
      "text/plain": [
       "[0.10098671913146973, 0.9587628841400146]"
      ]
     },
     "metadata": {},
     "execution_count": 10
    }
   ],
   "metadata": {}
  },
  {
   "cell_type": "code",
   "execution_count": 11,
   "source": [
    "model.save('face_model_CNN.h5')"
   ],
   "outputs": [],
   "metadata": {}
  },
  {
   "cell_type": "code",
   "execution_count": null,
   "source": [],
   "outputs": [],
   "metadata": {}
  }
 ],
 "metadata": {
  "kernelspec": {
   "name": "python3",
   "display_name": "Python 3.9.1 64-bit ('DeepLearning': venv)"
  },
  "language_info": {
   "codemirror_mode": {
    "name": "ipython",
    "version": 3
   },
   "file_extension": ".py",
   "mimetype": "text/x-python",
   "name": "python",
   "nbconvert_exporter": "python",
   "pygments_lexer": "ipython3",
   "version": "3.9.1"
  },
  "interpreter": {
   "hash": "7ee2dc3e1e80ff0aa5a298f81f64813ee83e64ec3c50bf3a669a316cddb77875"
  }
 },
 "nbformat": 4,
 "nbformat_minor": 5
}